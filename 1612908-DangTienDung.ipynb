{
 "cells": [
  {
   "cell_type": "markdown",
   "metadata": {},
   "source": [
    "# <center>**ĐỒ ÁN CUỐI KÌ MÔN LẬP TRÌNH KHOA HỌC DỮ LIỆU**</center>"
   ]
  },
  {
   "cell_type": "markdown",
   "metadata": {},
   "source": [
    "---"
   ]
  },
  {
   "cell_type": "markdown",
   "metadata": {},
   "source": [
    "## Import các thư viện cần thiết"
   ]
  },
  {
   "cell_type": "code",
   "execution_count": 1,
   "metadata": {},
   "outputs": [],
   "source": [
    "%matplotlib inline\n",
    "import numpy as np\n",
    "import matplotlib.pyplot as plt\n",
    "import pandas as pd"
   ]
  },
  {
   "cell_type": "markdown",
   "metadata": {},
   "source": [
    "---"
   ]
  },
  {
   "cell_type": "markdown",
   "metadata": {},
   "source": [
    "## __1. LẤY DỮ LIỆU__"
   ]
  },
  {
   "cell_type": "markdown",
   "metadata": {},
   "source": [
    "Dữ liệu được sử dụng trong đồ án này là dữ liệu lịch sử về Thế vận hội Olympic, bao gồm tất cả các Thế vận hội đầu tiên ở Athen (1896) tới Thế vận hội Mùa hè ở Rio (2016).\n",
    "\n",
    "Một điểm lưu ý nhỏ: Thế vận hội Mùa hè được tổ chức bắt đầu từ năm 1896, Mùa đông bắt đầu từ năm 1924. Trước năm 1994, Thế vận hội Mùa hè và Mùa đông được tổ chức  trong cùng một năm, và từ sau năm 1994, 2 Thế vận hội này được tổ chức xen kẽ nhau 2 năm/lần, thông tin từ trang [wiki](https://vi.wikipedia.org/wiki/Th%E1%BA%BF_v%E1%BA%ADn_h%E1%BB%99i).\n",
    "\n",
    "Bộ dữ liệu được thu thập vào tháng 5/2018 từ trang gốc [này](www.sports-reference.com), được lấy từ Kaggle và tải về [ở đây](https://www.kaggle.com/heesoo37/120-years-of-olympic-history-athletes-and-results)."
   ]
  },
  {
   "cell_type": "markdown",
   "metadata": {},
   "source": [
    "---"
   ]
  },
  {
   "cell_type": "markdown",
   "metadata": {},
   "source": [
    "## __2. KHÁM PHÁ DỮ LIỆU__"
   ]
  },
  {
   "cell_type": "markdown",
   "metadata": {},
   "source": [
    "### Đọc dữ liệu từ file csv vào dataframe"
   ]
  },
  {
   "cell_type": "code",
   "execution_count": 2,
   "metadata": {},
   "outputs": [
    {
     "data": {
      "text/html": [
       "<div>\n",
       "<style scoped>\n",
       "    .dataframe tbody tr th:only-of-type {\n",
       "        vertical-align: middle;\n",
       "    }\n",
       "\n",
       "    .dataframe tbody tr th {\n",
       "        vertical-align: top;\n",
       "    }\n",
       "\n",
       "    .dataframe thead th {\n",
       "        text-align: right;\n",
       "    }\n",
       "</style>\n",
       "<table border=\"1\" class=\"dataframe\">\n",
       "  <thead>\n",
       "    <tr style=\"text-align: right;\">\n",
       "      <th></th>\n",
       "      <th>ID</th>\n",
       "      <th>Name</th>\n",
       "      <th>Sex</th>\n",
       "      <th>Age</th>\n",
       "      <th>Height</th>\n",
       "      <th>Weight</th>\n",
       "      <th>Team</th>\n",
       "      <th>NOC</th>\n",
       "      <th>Games</th>\n",
       "      <th>Year</th>\n",
       "      <th>Season</th>\n",
       "      <th>City</th>\n",
       "      <th>Sport</th>\n",
       "      <th>Event</th>\n",
       "      <th>Medal</th>\n",
       "    </tr>\n",
       "  </thead>\n",
       "  <tbody>\n",
       "    <tr>\n",
       "      <th>0</th>\n",
       "      <td>1</td>\n",
       "      <td>A Dijiang</td>\n",
       "      <td>M</td>\n",
       "      <td>24.0</td>\n",
       "      <td>180.0</td>\n",
       "      <td>80.0</td>\n",
       "      <td>China</td>\n",
       "      <td>CHN</td>\n",
       "      <td>1992 Summer</td>\n",
       "      <td>1992</td>\n",
       "      <td>Summer</td>\n",
       "      <td>Barcelona</td>\n",
       "      <td>Basketball</td>\n",
       "      <td>Basketball Men's Basketball</td>\n",
       "      <td>NaN</td>\n",
       "    </tr>\n",
       "    <tr>\n",
       "      <th>1</th>\n",
       "      <td>2</td>\n",
       "      <td>A Lamusi</td>\n",
       "      <td>M</td>\n",
       "      <td>23.0</td>\n",
       "      <td>170.0</td>\n",
       "      <td>60.0</td>\n",
       "      <td>China</td>\n",
       "      <td>CHN</td>\n",
       "      <td>2012 Summer</td>\n",
       "      <td>2012</td>\n",
       "      <td>Summer</td>\n",
       "      <td>London</td>\n",
       "      <td>Judo</td>\n",
       "      <td>Judo Men's Extra-Lightweight</td>\n",
       "      <td>NaN</td>\n",
       "    </tr>\n",
       "    <tr>\n",
       "      <th>2</th>\n",
       "      <td>3</td>\n",
       "      <td>Gunnar Nielsen Aaby</td>\n",
       "      <td>M</td>\n",
       "      <td>24.0</td>\n",
       "      <td>NaN</td>\n",
       "      <td>NaN</td>\n",
       "      <td>Denmark</td>\n",
       "      <td>DEN</td>\n",
       "      <td>1920 Summer</td>\n",
       "      <td>1920</td>\n",
       "      <td>Summer</td>\n",
       "      <td>Antwerpen</td>\n",
       "      <td>Football</td>\n",
       "      <td>Football Men's Football</td>\n",
       "      <td>NaN</td>\n",
       "    </tr>\n",
       "    <tr>\n",
       "      <th>3</th>\n",
       "      <td>4</td>\n",
       "      <td>Edgar Lindenau Aabye</td>\n",
       "      <td>M</td>\n",
       "      <td>34.0</td>\n",
       "      <td>NaN</td>\n",
       "      <td>NaN</td>\n",
       "      <td>Denmark/Sweden</td>\n",
       "      <td>DEN</td>\n",
       "      <td>1900 Summer</td>\n",
       "      <td>1900</td>\n",
       "      <td>Summer</td>\n",
       "      <td>Paris</td>\n",
       "      <td>Tug-Of-War</td>\n",
       "      <td>Tug-Of-War Men's Tug-Of-War</td>\n",
       "      <td>Gold</td>\n",
       "    </tr>\n",
       "    <tr>\n",
       "      <th>4</th>\n",
       "      <td>5</td>\n",
       "      <td>Christine Jacoba Aaftink</td>\n",
       "      <td>F</td>\n",
       "      <td>21.0</td>\n",
       "      <td>185.0</td>\n",
       "      <td>82.0</td>\n",
       "      <td>Netherlands</td>\n",
       "      <td>NED</td>\n",
       "      <td>1988 Winter</td>\n",
       "      <td>1988</td>\n",
       "      <td>Winter</td>\n",
       "      <td>Calgary</td>\n",
       "      <td>Speed Skating</td>\n",
       "      <td>Speed Skating Women's 500 metres</td>\n",
       "      <td>NaN</td>\n",
       "    </tr>\n",
       "    <tr>\n",
       "      <th>5</th>\n",
       "      <td>5</td>\n",
       "      <td>Christine Jacoba Aaftink</td>\n",
       "      <td>F</td>\n",
       "      <td>21.0</td>\n",
       "      <td>185.0</td>\n",
       "      <td>82.0</td>\n",
       "      <td>Netherlands</td>\n",
       "      <td>NED</td>\n",
       "      <td>1988 Winter</td>\n",
       "      <td>1988</td>\n",
       "      <td>Winter</td>\n",
       "      <td>Calgary</td>\n",
       "      <td>Speed Skating</td>\n",
       "      <td>Speed Skating Women's 1,000 metres</td>\n",
       "      <td>NaN</td>\n",
       "    </tr>\n",
       "    <tr>\n",
       "      <th>6</th>\n",
       "      <td>5</td>\n",
       "      <td>Christine Jacoba Aaftink</td>\n",
       "      <td>F</td>\n",
       "      <td>25.0</td>\n",
       "      <td>185.0</td>\n",
       "      <td>82.0</td>\n",
       "      <td>Netherlands</td>\n",
       "      <td>NED</td>\n",
       "      <td>1992 Winter</td>\n",
       "      <td>1992</td>\n",
       "      <td>Winter</td>\n",
       "      <td>Albertville</td>\n",
       "      <td>Speed Skating</td>\n",
       "      <td>Speed Skating Women's 500 metres</td>\n",
       "      <td>NaN</td>\n",
       "    </tr>\n",
       "    <tr>\n",
       "      <th>7</th>\n",
       "      <td>5</td>\n",
       "      <td>Christine Jacoba Aaftink</td>\n",
       "      <td>F</td>\n",
       "      <td>25.0</td>\n",
       "      <td>185.0</td>\n",
       "      <td>82.0</td>\n",
       "      <td>Netherlands</td>\n",
       "      <td>NED</td>\n",
       "      <td>1992 Winter</td>\n",
       "      <td>1992</td>\n",
       "      <td>Winter</td>\n",
       "      <td>Albertville</td>\n",
       "      <td>Speed Skating</td>\n",
       "      <td>Speed Skating Women's 1,000 metres</td>\n",
       "      <td>NaN</td>\n",
       "    </tr>\n",
       "    <tr>\n",
       "      <th>8</th>\n",
       "      <td>5</td>\n",
       "      <td>Christine Jacoba Aaftink</td>\n",
       "      <td>F</td>\n",
       "      <td>27.0</td>\n",
       "      <td>185.0</td>\n",
       "      <td>82.0</td>\n",
       "      <td>Netherlands</td>\n",
       "      <td>NED</td>\n",
       "      <td>1994 Winter</td>\n",
       "      <td>1994</td>\n",
       "      <td>Winter</td>\n",
       "      <td>Lillehammer</td>\n",
       "      <td>Speed Skating</td>\n",
       "      <td>Speed Skating Women's 500 metres</td>\n",
       "      <td>NaN</td>\n",
       "    </tr>\n",
       "    <tr>\n",
       "      <th>9</th>\n",
       "      <td>5</td>\n",
       "      <td>Christine Jacoba Aaftink</td>\n",
       "      <td>F</td>\n",
       "      <td>27.0</td>\n",
       "      <td>185.0</td>\n",
       "      <td>82.0</td>\n",
       "      <td>Netherlands</td>\n",
       "      <td>NED</td>\n",
       "      <td>1994 Winter</td>\n",
       "      <td>1994</td>\n",
       "      <td>Winter</td>\n",
       "      <td>Lillehammer</td>\n",
       "      <td>Speed Skating</td>\n",
       "      <td>Speed Skating Women's 1,000 metres</td>\n",
       "      <td>NaN</td>\n",
       "    </tr>\n",
       "  </tbody>\n",
       "</table>\n",
       "</div>"
      ],
      "text/plain": [
       "   ID                      Name Sex   Age  Height  Weight            Team  \\\n",
       "0   1                 A Dijiang   M  24.0   180.0    80.0           China   \n",
       "1   2                  A Lamusi   M  23.0   170.0    60.0           China   \n",
       "2   3       Gunnar Nielsen Aaby   M  24.0     NaN     NaN         Denmark   \n",
       "3   4      Edgar Lindenau Aabye   M  34.0     NaN     NaN  Denmark/Sweden   \n",
       "4   5  Christine Jacoba Aaftink   F  21.0   185.0    82.0     Netherlands   \n",
       "5   5  Christine Jacoba Aaftink   F  21.0   185.0    82.0     Netherlands   \n",
       "6   5  Christine Jacoba Aaftink   F  25.0   185.0    82.0     Netherlands   \n",
       "7   5  Christine Jacoba Aaftink   F  25.0   185.0    82.0     Netherlands   \n",
       "8   5  Christine Jacoba Aaftink   F  27.0   185.0    82.0     Netherlands   \n",
       "9   5  Christine Jacoba Aaftink   F  27.0   185.0    82.0     Netherlands   \n",
       "\n",
       "   NOC        Games  Year  Season         City          Sport  \\\n",
       "0  CHN  1992 Summer  1992  Summer    Barcelona     Basketball   \n",
       "1  CHN  2012 Summer  2012  Summer       London           Judo   \n",
       "2  DEN  1920 Summer  1920  Summer    Antwerpen       Football   \n",
       "3  DEN  1900 Summer  1900  Summer        Paris     Tug-Of-War   \n",
       "4  NED  1988 Winter  1988  Winter      Calgary  Speed Skating   \n",
       "5  NED  1988 Winter  1988  Winter      Calgary  Speed Skating   \n",
       "6  NED  1992 Winter  1992  Winter  Albertville  Speed Skating   \n",
       "7  NED  1992 Winter  1992  Winter  Albertville  Speed Skating   \n",
       "8  NED  1994 Winter  1994  Winter  Lillehammer  Speed Skating   \n",
       "9  NED  1994 Winter  1994  Winter  Lillehammer  Speed Skating   \n",
       "\n",
       "                                Event Medal  \n",
       "0         Basketball Men's Basketball   NaN  \n",
       "1        Judo Men's Extra-Lightweight   NaN  \n",
       "2             Football Men's Football   NaN  \n",
       "3         Tug-Of-War Men's Tug-Of-War  Gold  \n",
       "4    Speed Skating Women's 500 metres   NaN  \n",
       "5  Speed Skating Women's 1,000 metres   NaN  \n",
       "6    Speed Skating Women's 500 metres   NaN  \n",
       "7  Speed Skating Women's 1,000 metres   NaN  \n",
       "8    Speed Skating Women's 500 metres   NaN  \n",
       "9  Speed Skating Women's 1,000 metres   NaN  "
      ]
     },
     "execution_count": 2,
     "metadata": {},
     "output_type": "execute_result"
    }
   ],
   "source": [
    "athlete_df = pd.read_csv('athlete_events.csv')\n",
    "athlete_df.head(10)"
   ]
  },
  {
   "cell_type": "markdown",
   "metadata": {},
   "source": [
    "### Dữ liệu gồm có bao nhiêu dòng và bao nhiêu cột?"
   ]
  },
  {
   "cell_type": "code",
   "execution_count": 3,
   "metadata": {},
   "outputs": [],
   "source": [
    "num_rows = athlete_df.shape[0]\n",
    "num_cols = athlete_df.shape[1]"
   ]
  },
  {
   "cell_type": "code",
   "execution_count": 4,
   "metadata": {},
   "outputs": [],
   "source": [
    "assert num_rows == 271116\n",
    "assert num_cols == 15"
   ]
  },
  {
   "cell_type": "markdown",
   "metadata": {},
   "source": [
    "### Mỗi dòng và mỗi cột có ý nghĩa gì?"
   ]
  },
  {
   "cell_type": "markdown",
   "metadata": {},
   "source": [
    "Dưới đây là phần mô tả về các cột trong file \"athlete_events.csv\":\n",
    "- __ID__: Unique number for each athlete\n",
    "- __Name__: Athlete's name\n",
    "- __Sex__: gender - Male(M) or Female(F)\n",
    "- __Age__: Athlete's age\n",
    "- __Height__: Athlete's height\n",
    "- __Weight__: Athlete's weight\n",
    "- __Team__: Team name\n",
    "- __NOC__: National Olympic Committee 3-letter code\n",
    "- __Games__: Year and season\n",
    "- __Year__: Year on held\n",
    "- __Season__: Summer or Winter\n",
    "- __City__: Host city\n",
    "- __Sport__: Sport\n",
    "- __Event__: Event\n",
    "- __Medal__: Gold, Silver, Bronze, or NA\n",
    "\n",
    "Nhìn vào dữ liệu ở `athlete_df`, ta có thể thấy là mỗi dòng ứng với thông tin của một vận động viên tham gia Thế vận hội."
   ]
  },
  {
   "cell_type": "markdown",
   "metadata": {},
   "source": [
    "### Mỗi cột có dtype là gì?"
   ]
  },
  {
   "cell_type": "markdown",
   "metadata": {},
   "source": [
    "Ta lấy `dtype` (kiểu dữ liệu của mỗi phần tử) của mỗi cột trong `athlete_df` và lưu kết quả vào series `col_dtypes`; series này có index là tên cột. "
   ]
  },
  {
   "cell_type": "code",
   "execution_count": 5,
   "metadata": {},
   "outputs": [
    {
     "data": {
      "text/plain": [
       "ID          int64\n",
       "Name       object\n",
       "Sex        object\n",
       "Age       float64\n",
       "Height    float64\n",
       "Weight    float64\n",
       "Team       object\n",
       "NOC        object\n",
       "Games      object\n",
       "Year        int64\n",
       "Season     object\n",
       "City       object\n",
       "Sport      object\n",
       "Event      object\n",
       "Medal      object\n",
       "dtype: object"
      ]
     },
     "execution_count": 5,
     "metadata": {},
     "output_type": "execute_result"
    }
   ],
   "source": [
    "col_names = list(athlete_df.columns.values)\n",
    "dtype_for_each_col = list(athlete_df.dtypes)\n",
    "\n",
    "col_dtypes = pd.Series(dtype_for_each_col, index = col_names)\n",
    "col_dtypes"
   ]
  },
  {
   "cell_type": "markdown",
   "metadata": {},
   "source": [
    "### Các cột có dtype là object là gì?"
   ]
  },
  {
   "cell_type": "markdown",
   "metadata": {},
   "source": [
    "`athlete_df` có 10 cột có `dtype` là `object`: \"Name\", \"Sex\", \"Team\", \"NOC\", \"Games\", \"Season\", \"City\", \"Sport\", \"Event\", \"Medal\". Ta sẽ xem thử mỗi cột có các kiểu dữ liệu nào."
   ]
  },
  {
   "cell_type": "code",
   "execution_count": 6,
   "metadata": {},
   "outputs": [],
   "source": [
    "def open_object_dtype(s):\n",
    "    dtypes = set()\n",
    "    \n",
    "    # YOUR CODE HERE\n",
    "    \n",
    "    if s.dtype == object:\n",
    "        result = s.map(type)\n",
    "        for particular_type in result:\n",
    "            dtypes.add(particular_type)\n",
    "    \n",
    "    return dtypes"
   ]
  },
  {
   "cell_type": "code",
   "execution_count": 7,
   "metadata": {},
   "outputs": [],
   "source": [
    "assert open_object_dtype(athlete_df['Name']) == {str}\n",
    "assert open_object_dtype(athlete_df['Sex']) == {str}\n",
    "assert open_object_dtype(athlete_df['Team']) == {str}\n",
    "assert open_object_dtype(athlete_df['NOC']) == {str}\n",
    "assert open_object_dtype(athlete_df['Games']) == {str}\n",
    "assert open_object_dtype(athlete_df['Season']) == {str}\n",
    "assert open_object_dtype(athlete_df['City']) == {str}\n",
    "assert open_object_dtype(athlete_df['Sport']) == {str}\n",
    "assert open_object_dtype(athlete_df['Event']) == {str}\n",
    "assert open_object_dtype(athlete_df['Medal']) == {str, float}"
   ]
  },
  {
   "cell_type": "markdown",
   "metadata": {},
   "source": [
    "**<font color=red>Nhận xét:</font>**\n",
    "\n",
    "- Các cột sau có `dtype` là `str`: \"Name\", \"Sex\", \"Team\", \"NOC\", \"Games\", \"Season\", \"City\", \"Sport\", \"Event\".\n",
    "- Chỉ duy nhất cột \"Medal\" có `dtype` gồm 2 loại là: `str` và `float`. Trong đó, `float` là ứng với `NaN`, không có huy chương, `str` ứng với đạt một huy chương tại một môn thể thao nào đó."
   ]
  },
  {
   "cell_type": "markdown",
   "metadata": {},
   "source": [
    "### Cột dạng numeric có miền giá trị thế nào?"
   ]
  },
  {
   "cell_type": "code",
   "execution_count": 8,
   "metadata": {},
   "outputs": [
    {
     "name": "stdout",
     "output_type": "stream",
     "text": [
      "<class 'pandas.core.frame.DataFrame'>\n",
      "RangeIndex: 271116 entries, 0 to 271115\n",
      "Data columns (total 15 columns):\n",
      " #   Column  Non-Null Count   Dtype  \n",
      "---  ------  --------------   -----  \n",
      " 0   ID      271116 non-null  int64  \n",
      " 1   Name    271116 non-null  object \n",
      " 2   Sex     271116 non-null  object \n",
      " 3   Age     261642 non-null  float64\n",
      " 4   Height  210945 non-null  float64\n",
      " 5   Weight  208241 non-null  float64\n",
      " 6   Team    271116 non-null  object \n",
      " 7   NOC     271116 non-null  object \n",
      " 8   Games   271116 non-null  object \n",
      " 9   Year    271116 non-null  int64  \n",
      " 10  Season  271116 non-null  object \n",
      " 11  City    271116 non-null  object \n",
      " 12  Sport   271116 non-null  object \n",
      " 13  Event   271116 non-null  object \n",
      " 14  Medal   39783 non-null   object \n",
      "dtypes: float64(3), int64(2), object(10)\n",
      "memory usage: 31.0+ MB\n"
     ]
    }
   ],
   "source": [
    "athlete_df.info()"
   ]
  },
  {
   "cell_type": "markdown",
   "metadata": {},
   "source": [
    "Hiện có 5 cột dạng numeric, đó là: \"ID\", \"Age\", \"Height\", \"Weight\", \"Year\". Tuy nhiên là cột \"ID\" không có gì đáng lưu ý. Như vậy chỉ còn lại cột \"Age\", \"Height\", \"Weight\", và \"Year\". Ta sẽ tính miền giá trị (min, max) của 4 cột là \"Age\", \"Height\", \"Weight\", \"Year\", lưu kết quả vào dataframe `col_ranges_df`. Dataframe này có 2 dòng là \"min\", \"max\"; và có 2 cột là \"Age\", \"Height\", \"Weight\", \"Year\"."
   ]
  },
  {
   "cell_type": "code",
   "execution_count": 9,
   "metadata": {},
   "outputs": [
    {
     "data": {
      "text/html": [
       "<div>\n",
       "<style scoped>\n",
       "    .dataframe tbody tr th:only-of-type {\n",
       "        vertical-align: middle;\n",
       "    }\n",
       "\n",
       "    .dataframe tbody tr th {\n",
       "        vertical-align: top;\n",
       "    }\n",
       "\n",
       "    .dataframe thead th {\n",
       "        text-align: right;\n",
       "    }\n",
       "</style>\n",
       "<table border=\"1\" class=\"dataframe\">\n",
       "  <thead>\n",
       "    <tr style=\"text-align: right;\">\n",
       "      <th></th>\n",
       "      <th>Age</th>\n",
       "      <th>Height</th>\n",
       "      <th>Weight</th>\n",
       "      <th>Year</th>\n",
       "    </tr>\n",
       "  </thead>\n",
       "  <tbody>\n",
       "    <tr>\n",
       "      <th>min</th>\n",
       "      <td>10.0</td>\n",
       "      <td>127.0</td>\n",
       "      <td>25.0</td>\n",
       "      <td>1896</td>\n",
       "    </tr>\n",
       "    <tr>\n",
       "      <th>max</th>\n",
       "      <td>97.0</td>\n",
       "      <td>226.0</td>\n",
       "      <td>214.0</td>\n",
       "      <td>2016</td>\n",
       "    </tr>\n",
       "  </tbody>\n",
       "</table>\n",
       "</div>"
      ],
      "text/plain": [
       "      Age  Height  Weight  Year\n",
       "min  10.0   127.0    25.0  1896\n",
       "max  97.0   226.0   214.0  2016"
      ]
     },
     "execution_count": 9,
     "metadata": {},
     "output_type": "execute_result"
    }
   ],
   "source": [
    "col_ranges_df = athlete_df.agg({'Age': ['min', 'max'], 'Height': ['min', 'max'], 'Weight': ['min', 'max'], 'Year': ['min', 'max']})\n",
    "col_ranges_df"
   ]
  },
  {
   "cell_type": "markdown",
   "metadata": {},
   "source": [
    "### Các cột dạng categorical có các giá trị nào?"
   ]
  },
  {
   "cell_type": "markdown",
   "metadata": {},
   "source": [
    "`athlete_df` có 6 cột dạng categorical là \"Team\", \"Games\", \"City\", \"Sport\", \"Event\", \"Medal\". Ta tính \"range\" cho các cột này: số lượng các giá trị khác nhau (không tính NaN), và list gồm 3 giá trị khác nhau đầu tiên sau khi đã sort tăng dần tất cả các giá trị khác nhau. Lưu kết quả vào dataframe `cat_col_ranges_df`. Dataframe này có 2 dòng là \"NumUniqueVals\", \"ThreeFirstVals\"; và có 6 cột là \"Team\", \"Games\", \"City\", \"Sport\", \"Event\", \"Medal\"."
   ]
  },
  {
   "cell_type": "code",
   "execution_count": 10,
   "metadata": {},
   "outputs": [
    {
     "data": {
      "text/html": [
       "<div>\n",
       "<style scoped>\n",
       "    .dataframe tbody tr th:only-of-type {\n",
       "        vertical-align: middle;\n",
       "    }\n",
       "\n",
       "    .dataframe tbody tr th {\n",
       "        vertical-align: top;\n",
       "    }\n",
       "\n",
       "    .dataframe thead th {\n",
       "        text-align: right;\n",
       "    }\n",
       "</style>\n",
       "<table border=\"1\" class=\"dataframe\">\n",
       "  <thead>\n",
       "    <tr style=\"text-align: right;\">\n",
       "      <th></th>\n",
       "      <th>Team</th>\n",
       "      <th>Games</th>\n",
       "      <th>City</th>\n",
       "      <th>Sport</th>\n",
       "      <th>Event</th>\n",
       "      <th>Medal</th>\n",
       "    </tr>\n",
       "  </thead>\n",
       "  <tbody>\n",
       "    <tr>\n",
       "      <th>NumUniqueVals</th>\n",
       "      <td>1184</td>\n",
       "      <td>51</td>\n",
       "      <td>42</td>\n",
       "      <td>66</td>\n",
       "      <td>765</td>\n",
       "      <td>3</td>\n",
       "    </tr>\n",
       "    <tr>\n",
       "      <th>ThreeFirstVals</th>\n",
       "      <td>[30. Februar, A North American Team, Acipactli]</td>\n",
       "      <td>[1896 Summer, 1900 Summer, 1904 Summer]</td>\n",
       "      <td>[Albertville, Amsterdam, Antwerpen]</td>\n",
       "      <td>[Aeronautics, Alpine Skiing, Alpinism]</td>\n",
       "      <td>[Aeronautics Mixed Aeronautics, Alpine Skiing ...</td>\n",
       "      <td>[Bronze, Gold, Silver]</td>\n",
       "    </tr>\n",
       "  </tbody>\n",
       "</table>\n",
       "</div>"
      ],
      "text/plain": [
       "                                                           Team  \\\n",
       "NumUniqueVals                                              1184   \n",
       "ThreeFirstVals  [30. Februar, A North American Team, Acipactli]   \n",
       "\n",
       "                                                  Games  \\\n",
       "NumUniqueVals                                        51   \n",
       "ThreeFirstVals  [1896 Summer, 1900 Summer, 1904 Summer]   \n",
       "\n",
       "                                               City  \\\n",
       "NumUniqueVals                                    42   \n",
       "ThreeFirstVals  [Albertville, Amsterdam, Antwerpen]   \n",
       "\n",
       "                                                 Sport  \\\n",
       "NumUniqueVals                                       66   \n",
       "ThreeFirstVals  [Aeronautics, Alpine Skiing, Alpinism]   \n",
       "\n",
       "                                                            Event  \\\n",
       "NumUniqueVals                                                 765   \n",
       "ThreeFirstVals  [Aeronautics Mixed Aeronautics, Alpine Skiing ...   \n",
       "\n",
       "                                 Medal  \n",
       "NumUniqueVals                        3  \n",
       "ThreeFirstVals  [Bronze, Gold, Silver]  "
      ]
     },
     "execution_count": 10,
     "metadata": {},
     "output_type": "execute_result"
    }
   ],
   "source": [
    "cat_col_ranges_df = athlete_df.agg({ 'Team': ['nunique'], 'Games': ['nunique'], 'City': ['nunique'], 'Sport': ['nunique'], 'Event': ['nunique'], 'Medal': ['nunique']})\n",
    "cat_col_ranges_df.rename(index={'nunique': 'NumUniqueVals'}, inplace=True)\n",
    "\n",
    "new_row = pd.Series({'Team': sorted(athlete_df['Team'].dropna().unique())[:3],\n",
    "                     'Games': sorted(athlete_df['Games'].dropna().unique())[:3],\n",
    "                     'City': sorted(athlete_df['City'].dropna().unique())[:3],\n",
    "                     'Sport': sorted(athlete_df['Sport'].dropna().unique())[:3],\n",
    "                     'Event': sorted(athlete_df['Event'].dropna().unique())[:3],\n",
    "                     'Medal': sorted(athlete_df['Medal'].dropna().unique())[:3]}, name='ThreeFirstVals')\n",
    "\n",
    "cat_col_ranges_df = cat_col_ranges_df.append(new_row)\n",
    "cat_col_ranges_df"
   ]
  },
  {
   "cell_type": "markdown",
   "metadata": {},
   "source": [
    "### Mỗi cột có bao nhiêu giá trị thiếu?"
   ]
  },
  {
   "cell_type": "markdown",
   "metadata": {},
   "source": [
    "Tính số lượng giá trị thiếu của mỗi cột và lưu kết quả vào series `col_num_nans`, trong đó index là tên cột, series này chỉ hiển thị các cột có giá trị thiếu."
   ]
  },
  {
   "cell_type": "code",
   "execution_count": 11,
   "metadata": {},
   "outputs": [
    {
     "data": {
      "text/plain": [
       "Age         9474\n",
       "Height     60171\n",
       "Weight     62875\n",
       "Medal     231333\n",
       "dtype: int64"
      ]
     },
     "execution_count": 11,
     "metadata": {},
     "output_type": "execute_result"
    }
   ],
   "source": [
    "list_data = []\n",
    "list_index = []\n",
    "\n",
    "for name in col_names:\n",
    "    result = athlete_df[name].isna().sum()\n",
    "    if result > 0:\n",
    "        list_data.append(result)\n",
    "        list_index.append(name)\n",
    "\n",
    "col_num_nans = pd.Series(list_data, index=list_index)\n",
    "col_num_nans"
   ]
  },
  {
   "cell_type": "markdown",
   "metadata": {},
   "source": [
    "---"
   ]
  },
  {
   "cell_type": "markdown",
   "metadata": {},
   "source": [
    "## __4. CÁC CÂU HỎI CẦN TRẢ LỜI VÀ TẠI SAO MỖI CÂU HỎI ĐÓ CÓ Ý NGHĨA__"
   ]
  },
  {
   "cell_type": "markdown",
   "metadata": {},
   "source": [
    "Sau khi khám phá và hiểu hơn về dữ liệu, có một số câu hỏi có thể trả lời được bằng dữ liệu như sau:\n",
    "\n",
    "- Số lượng vận động viên (VĐV) tham gia mỗi mùa Olympic thay đổi như thế nào theo năm, và có sự khác biệt nào giữa số VĐV Mùa hè và Mùa đông (từ sau năm 1992)?\n",
    "    - *Ý nghĩa*: câu hỏi này giúp ta cái nhìn tổng quan về các mùa Thế vận hội phát triển như thế nào theo thời gian như là quy mô, số lượng môn thể thao,...\n",
    "    \n",
    "    \n",
    "- Với các VĐV tham gia mỗi năm, tỉ lệ nữ VĐV tham gia Olympic tính đến năm 2016 là bao nhiêu?\n",
    "    - *Ý nghĩa*: câu hỏi này cho ta thấy rằng liệu theo thời gian, phụ nữ có thể tham gia cạnh tranh các môn thể thao như những đàn ông hay không, từ đó cho thấy khả năng cũng như sự bình đẳng giữa nam và nữ trong xã hội.\n",
    "    \n",
    "    \n",
    "- Trong mỗi năm, \"Team\" nào có nhiều huy chương nhất và \"Team\" nào có ít huy chương nhất?\n",
    "    - *Ý nghĩa*: câu hỏi này xác định nước nào (hay đội nào) có thành tích cao nhất, thấp nhất. Cho thấy sự đầu tư, chú trọng về con người cũng như là sự phát triển mạnh mẽ về kinh tế, khoa học của nước đó qua mỗi năm đối với Đại hội thể thao lớn nhất hành tinh này.\n",
    "    \n",
    "    \n",
    "- Trong 3 năm gần đây, đối với Mùa đông (2014, 2010, 2006) và Mùa hè (2016, 2012, 2008), 10 đội nào tham gia nhiều môn thể thao nhất?\n",
    "    - *Ý nghĩa*: câu hỏi này cho thấy đội nào có tham vọng, quyết tâm, thể hiện thế mạnh khi muốn đạt được nhiều thành tích nhất có thể trong 3 năm gần đây nhất, chia thành 2 mùa: mùa đông và mùa hè.\n",
    "    \n",
    "    \n",
    "- Trong mỗi năm, số lượng huy chương mà đội Mỹ đoạt được thay đổi như thế nào theo mùa?\n",
    "    - *Ý nghĩa*: câu hỏi này cho ta thấy thành tích của đội Mỹ thể hiện qua từng năm theo mùa, liệu đội Mỹ có thiên về thể thao mùa nào hơn hay không, hay đều chú trọng cả 2."
   ]
  },
  {
   "cell_type": "markdown",
   "metadata": {},
   "source": [
    "---"
   ]
  },
  {
   "cell_type": "markdown",
   "metadata": {},
   "source": [
    "## __5. CÂU TRẢ LỜI CHO CÁC CÂU HỎI__"
   ]
  },
  {
   "cell_type": "markdown",
   "metadata": {},
   "source": [
    "### Số lượng VĐV tham gia mỗi mùa Olympic thay đổi như thế nào theo năm, và có sự khác biệt nào giữa Mùa hè và Mùa đông (từ sau năm 1992)?\n",
    "\n",
    "Để trả lời câu hỏi này, ta thực hiện các bước sau:\n",
    "- Bước 1: Tính số VĐV tham gia Olympic của mỗi năm. Lưu kết quả vào series `num_athletes_each_year`, trong đó index là năm.\n",
    "- Bước 2: Từ kết quả ở trên, ta vẽ đồ thị dạng line, trong đó trục hoành là năm và trục tung là số lượng VĐV, dùng thêm marker là điểm tròn để cho thấy rõ các điểm dữ liệu. Đặt tên trục hoành là \"Year\" và tên trục tung là \"NumAthletes\"."
   ]
  },
  {
   "cell_type": "markdown",
   "metadata": {},
   "source": [
    "Code bước 1:"
   ]
  },
  {
   "cell_type": "code",
   "execution_count": 12,
   "metadata": {},
   "outputs": [
    {
     "data": {
      "text/plain": [
       "1896      380\n",
       "1900     1936\n",
       "1904     1301\n",
       "1906     1733\n",
       "1908     3101\n",
       "1912     4040\n",
       "1920     4292\n",
       "1924     5693\n",
       "1928     5574\n",
       "1932     3321\n",
       "1936     7401\n",
       "1948     7480\n",
       "1952     9358\n",
       "1956     6434\n",
       "1960     9235\n",
       "1964     9480\n",
       "1968    10479\n",
       "1972    11959\n",
       "1976    10502\n",
       "1980     8937\n",
       "1984    11588\n",
       "1988    14676\n",
       "1992    16413\n",
       "1994     3160\n",
       "1996    13780\n",
       "1998     3605\n",
       "2000    13821\n",
       "2002     4109\n",
       "2004    13443\n",
       "2006     4382\n",
       "2008    13602\n",
       "2010     4402\n",
       "2012    12920\n",
       "2014     4891\n",
       "2016    13688\n",
       "Name: Year, dtype: int64"
      ]
     },
     "execution_count": 12,
     "metadata": {},
     "output_type": "execute_result"
    }
   ],
   "source": [
    "num_athletes_each_year = athlete_df['Year'].value_counts().sort_index()\n",
    "num_athletes_each_year"
   ]
  },
  {
   "cell_type": "markdown",
   "metadata": {},
   "source": [
    "Code bước 2:"
   ]
  },
  {
   "cell_type": "code",
   "execution_count": 13,
   "metadata": {},
   "outputs": [
    {
     "data": {
      "image/png": "[encoded data removed]",
      "text/plain": [
       "<Figure size 432x288 with 1 Axes>"
      ]
     },
     "metadata": {
      "needs_background": "light"
     },
     "output_type": "display_data"
    }
   ],
   "source": [
    "num_athletes_each_year.plot.line(marker = 'o')\n",
    "plt.xlabel('Year')\n",
    "plt.ylabel('NumAthletes');"
   ]
  },
  {
   "cell_type": "markdown",
   "metadata": {},
   "source": [
    "**<font color=red>Nhận xét:</font>**\n",
    "\n",
    "- Nhìn chung, qua các năm thì số lượng vận động viên tham gia Olympic ngày càng nhiều.\n",
    "- Từ năm 1994 trở đi, số lượng vận động viên tham gia Olympic Mùa hè lại đông hơn nhiều so với Olympic Mùa đông, có thể do số lượng môn thể thao ở Mùa hè nhiều hơn so với Mùa đông."
   ]
  },
  {
   "cell_type": "markdown",
   "metadata": {},
   "source": [
    "### Với các VĐV tham gia mỗi năm, tỉ lệ nữ VĐV tham gia Olympic tính đến năm 2016 là bao nhiêu?\n",
    "\n",
    "Để trả lời cho câu hỏi này, ta sẽ làm như sau:\n",
    "- Bước 1: Tính tỉ lệ (từ 0 đến 1) nữ VĐV của mỗi năm (năm ở đây là năm diễn ra Thế vận hội). Lưu kết quả vào series `women_ratio_each_year`, trong đó index là năm.\n",
    "- Bước 2: Từ kết quả ở trên, vẽ đồ thị dạng line, trong đó trục hoành là năm và trục tung là tỉ lệ bị bắt. Dùng thêm marker là điểm tròn để cho thấy rõ các điểm dữ liệu, đặt tên trục hoành là \"Year\" và tên trục tung là \"WomenRatio\". Ngoài ra, chỉnh miền giá trị của trục tung là từ 0 đến 1."
   ]
  },
  {
   "cell_type": "markdown",
   "metadata": {},
   "source": [
    "Code bước 1:"
   ]
  },
  {
   "cell_type": "code",
   "execution_count": 14,
   "metadata": {},
   "outputs": [
    {
     "data": {
      "text/plain": [
       "Year\n",
       "1896    0.000000\n",
       "1900    0.017045\n",
       "1904    0.012298\n",
       "1906    0.006347\n",
       "1908    0.015156\n",
       "1912    0.021535\n",
       "1920    0.031221\n",
       "1924    0.045846\n",
       "1928    0.078400\n",
       "1932    0.111111\n",
       "1936    0.074179\n",
       "1948    0.101738\n",
       "1952    0.179739\n",
       "1956    0.177028\n",
       "1960    0.187331\n",
       "1964    0.184810\n",
       "1968    0.209276\n",
       "1972    0.218078\n",
       "1976    0.248143\n",
       "1980    0.244601\n",
       "1984    0.257421\n",
       "1988    0.287749\n",
       "1992    0.315482\n",
       "1994    0.349684\n",
       "1996    0.363425\n",
       "1998    0.383911\n",
       "2000    0.392953\n",
       "2002    0.385009\n",
       "2004    0.412557\n",
       "2006    0.400958\n",
       "2008    0.427584\n",
       "2010    0.419582\n",
       "2012    0.450077\n",
       "2014    0.413617\n",
       "2016    0.454632\n",
       "dtype: float64"
      ]
     },
     "execution_count": 14,
     "metadata": {},
     "output_type": "execute_result"
    }
   ],
   "source": [
    "women_each_year = athlete_df.groupby(['Sex', 'Year'])['Sex'].count().unstack().fillna(0).stack()\n",
    "\n",
    "women_ratio_each_year = women_each_year['F'].div(num_athletes_each_year)\n",
    "women_ratio_each_year"
   ]
  },
  {
   "cell_type": "markdown",
   "metadata": {},
   "source": [
    "Code bước 2:"
   ]
  },
  {
   "cell_type": "code",
   "execution_count": 15,
   "metadata": {},
   "outputs": [
    {
     "data": {
      "image/png": "[encoded data removed]",
      "text/plain": [
       "<Figure size 432x288 with 1 Axes>"
      ]
     },
     "metadata": {
      "needs_background": "light"
     },
     "output_type": "display_data"
    }
   ],
   "source": [
    "women_ratio_each_year.plot.line(marker = 'o')\n",
    "plt.xlabel('Year')\n",
    "plt.ylabel('WomenRatio')\n",
    "plt.ylim(0, 1);"
   ]
  },
  {
   "cell_type": "markdown",
   "metadata": {},
   "source": [
    "**<font color=red>Nhận xét:</font>**\n",
    "\n",
    "- Nhìn chung qua các năm, số lượng VĐV nữ tham gia Olympic ngày càng nhiều. Có thể nhờ sự bình đẳng giới giữa nam và nữ mà các nữ VĐV ngày càng khẳng định vị thế của mình trước nam giới trong tất cả các môn thể thao Mùa hè và Mùa đông.\n",
    "- Năm đầu tiên tổ chức không hề có nữ VĐV nào tham gia, những năm gần đây thì số lượng nữ VĐV gần xấp xỉ với nam VĐV."
   ]
  },
  {
   "cell_type": "markdown",
   "metadata": {},
   "source": [
    "###  Trong mỗi năm, \"Team\" nào có nhiều huy chương nhất và \"Team\" nào có ít huy chương nhất?\n",
    "\n",
    "Ta lưu kết quả vào dataframe `two_teams_each_year_df`. Dataframe này sẽ có 2 cột là \"TeamHasTheLeastMedal\" (các \"Team\" có ít huy chương nhất) và \"TeamHasTheMostMedal\" (các \"Team\" có nhiều huy chương nhất) và có số dòng ứng với mỗi năm diễn ra Olympic."
   ]
  },
  {
   "cell_type": "code",
   "execution_count": 16,
   "metadata": {},
   "outputs": [
    {
     "data": {
      "text/html": [
       "<div>\n",
       "<style scoped>\n",
       "    .dataframe tbody tr th:only-of-type {\n",
       "        vertical-align: middle;\n",
       "    }\n",
       "\n",
       "    .dataframe tbody tr th {\n",
       "        vertical-align: top;\n",
       "    }\n",
       "\n",
       "    .dataframe thead th {\n",
       "        text-align: right;\n",
       "    }\n",
       "</style>\n",
       "<table border=\"1\" class=\"dataframe\">\n",
       "  <thead>\n",
       "    <tr style=\"text-align: right;\">\n",
       "      <th></th>\n",
       "      <th>TeamHasTheLeastMedal</th>\n",
       "      <th>TeamHasTheMostMedal</th>\n",
       "    </tr>\n",
       "  </thead>\n",
       "  <tbody>\n",
       "    <tr>\n",
       "      <th>1896</th>\n",
       "      <td>[Australia, Australia/Great Britain, Ethnikos ...</td>\n",
       "      <td>[Greece]</td>\n",
       "    </tr>\n",
       "    <tr>\n",
       "      <th>1900</th>\n",
       "      <td>[Belgium-1, Brynhild-2, Carabinier-15, Cicely-...</td>\n",
       "      <td>[France]</td>\n",
       "    </tr>\n",
       "    <tr>\n",
       "      <th>1904</th>\n",
       "      <td>[France]</td>\n",
       "      <td>[United States]</td>\n",
       "    </tr>\n",
       "    <tr>\n",
       "      <th>1906</th>\n",
       "      <td>[Canada, Greece-2]</td>\n",
       "      <td>[France]</td>\n",
       "    </tr>\n",
       "    <tr>\n",
       "      <th>1908</th>\n",
       "      <td>[Austria, Camille]</td>\n",
       "      <td>[Great Britain]</td>\n",
       "    </tr>\n",
       "    <tr>\n",
       "      <th>1912</th>\n",
       "      <td>[England]</td>\n",
       "      <td>[Sweden]</td>\n",
       "    </tr>\n",
       "    <tr>\n",
       "      <th>1920</th>\n",
       "      <td>[Luxembourg, New Zealand]</td>\n",
       "      <td>[United States]</td>\n",
       "    </tr>\n",
       "    <tr>\n",
       "      <th>1924</th>\n",
       "      <td>[Greece, Japan, Monaco, Nepal, New Zealand]</td>\n",
       "      <td>[United States]</td>\n",
       "    </tr>\n",
       "    <tr>\n",
       "      <th>1928</th>\n",
       "      <td>[Chile, Haiti, Ireland, Luxembourg, New Zealan...</td>\n",
       "      <td>[United States]</td>\n",
       "    </tr>\n",
       "    <tr>\n",
       "      <th>1932</th>\n",
       "      <td>[Belgium, Latvia, Spain, Switzerland, Uruguay]</td>\n",
       "      <td>[United States]</td>\n",
       "    </tr>\n",
       "    <tr>\n",
       "      <th>1936</th>\n",
       "      <td>[Australia, New Zealand, Nrnberg, Philippines,...</td>\n",
       "      <td>[Germany]</td>\n",
       "    </tr>\n",
       "    <tr>\n",
       "      <th>1948</th>\n",
       "      <td>[Iran, Ireland, Peru, Puerto Rico, Sri Lanka, ...</td>\n",
       "      <td>[United States]</td>\n",
       "    </tr>\n",
       "    <tr>\n",
       "      <th>1952</th>\n",
       "      <td>[Bulgaria, Egypt, Ireland, Luxembourg, Mexico,...</td>\n",
       "      <td>[United States]</td>\n",
       "    </tr>\n",
       "    <tr>\n",
       "      <th>1956</th>\n",
       "      <td>[Brazil, Greece, Iceland, New Zealand]</td>\n",
       "      <td>[Soviet Union]</td>\n",
       "    </tr>\n",
       "    <tr>\n",
       "      <th>1960</th>\n",
       "      <td>[Argentina, Chinese Taipei, Ethiopia, Ghana, I...</td>\n",
       "      <td>[Soviet Union]</td>\n",
       "    </tr>\n",
       "    <tr>\n",
       "      <th>1964</th>\n",
       "      <td>[Argentina, Cuba, Ethiopia, Ghana, Ireland, Ke...</td>\n",
       "      <td>[Soviet Union]</td>\n",
       "    </tr>\n",
       "    <tr>\n",
       "      <th>1968</th>\n",
       "      <td>[Cameroon, Chinese Taipei, Greece, Jamaica, Ve...</td>\n",
       "      <td>[Soviet Union]</td>\n",
       "    </tr>\n",
       "    <tr>\n",
       "      <th>1972</th>\n",
       "      <td>[Argentina, Denmark, Ghana, Jamaica, Lebanon, ...</td>\n",
       "      <td>[Soviet Union]</td>\n",
       "    </tr>\n",
       "    <tr>\n",
       "      <th>1976</th>\n",
       "      <td>[Bermuda, Mongolia, Puerto Rico, Thailand, Tri...</td>\n",
       "      <td>[Soviet Union]</td>\n",
       "    </tr>\n",
       "    <tr>\n",
       "      <th>1980</th>\n",
       "      <td>[Belgium, Guyana, Japan, Lebanon, Uganda, Vene...</td>\n",
       "      <td>[Soviet Union]</td>\n",
       "    </tr>\n",
       "    <tr>\n",
       "      <th>1984</th>\n",
       "      <td>[Cameroon, Chinese Taipei, Colombia, Cote d'Iv...</td>\n",
       "      <td>[United States]</td>\n",
       "    </tr>\n",
       "    <tr>\n",
       "      <th>1988</th>\n",
       "      <td>[Chile, Colombia, Costa Rica, Djibouti, Greece...</td>\n",
       "      <td>[Soviet Union]</td>\n",
       "    </tr>\n",
       "    <tr>\n",
       "      <th>1992</th>\n",
       "      <td>[Bahamas, Colombia, Mexico, Peru, Philippines,...</td>\n",
       "      <td>[Unified Team]</td>\n",
       "    </tr>\n",
       "    <tr>\n",
       "      <th>1994</th>\n",
       "      <td>[Uzbekistan]</td>\n",
       "      <td>[Canada]</td>\n",
       "    </tr>\n",
       "    <tr>\n",
       "      <th>1996</th>\n",
       "      <td>[Azerbaijan, Burundi, Chinese Taipei, Costa Ri...</td>\n",
       "      <td>[United States]</td>\n",
       "    </tr>\n",
       "    <tr>\n",
       "      <th>1998</th>\n",
       "      <td>[Australia, Belgium, Bulgaria, Ukraine]</td>\n",
       "      <td>[Finland]</td>\n",
       "    </tr>\n",
       "    <tr>\n",
       "      <th>2000</th>\n",
       "      <td>[Armenia, Barbados, Colombia, Iceland, India, ...</td>\n",
       "      <td>[United States]</td>\n",
       "    </tr>\n",
       "    <tr>\n",
       "      <th>2002</th>\n",
       "      <td>[Belarus]</td>\n",
       "      <td>[Canada]</td>\n",
       "    </tr>\n",
       "    <tr>\n",
       "      <th>2004</th>\n",
       "      <td>[Cameroon, Dominican Republic, Eritrea, India,...</td>\n",
       "      <td>[United States]</td>\n",
       "    </tr>\n",
       "    <tr>\n",
       "      <th>2006</th>\n",
       "      <td>[Belarus, Bulgaria, Great Britain, Japan, Latv...</td>\n",
       "      <td>[Canada]</td>\n",
       "    </tr>\n",
       "    <tr>\n",
       "      <th>2008</th>\n",
       "      <td>[Afghanistan, Bonaparte, Cameroon, Chile, Clea...</td>\n",
       "      <td>[United States]</td>\n",
       "    </tr>\n",
       "    <tr>\n",
       "      <th>2010</th>\n",
       "      <td>[Estonia, Great Britain, Kazakhstan, Latvia]</td>\n",
       "      <td>[United States]</td>\n",
       "    </tr>\n",
       "    <tr>\n",
       "      <th>2012</th>\n",
       "      <td>[Afghanistan, Algeria, Bahrain, Botswana, Cypr...</td>\n",
       "      <td>[United States]</td>\n",
       "    </tr>\n",
       "    <tr>\n",
       "      <th>2014</th>\n",
       "      <td>[Croatia, Kazakhstan, Slovakia]</td>\n",
       "      <td>[Canada]</td>\n",
       "    </tr>\n",
       "    <tr>\n",
       "      <th>2016</th>\n",
       "      <td>[Burundi, Dominican Republic, Finland, Grenada...</td>\n",
       "      <td>[United States]</td>\n",
       "    </tr>\n",
       "  </tbody>\n",
       "</table>\n",
       "</div>"
      ],
      "text/plain": [
       "                                   TeamHasTheLeastMedal TeamHasTheMostMedal\n",
       "1896  [Australia, Australia/Great Britain, Ethnikos ...            [Greece]\n",
       "1900  [Belgium-1, Brynhild-2, Carabinier-15, Cicely-...            [France]\n",
       "1904                                           [France]     [United States]\n",
       "1906                                 [Canada, Greece-2]            [France]\n",
       "1908                                 [Austria, Camille]     [Great Britain]\n",
       "1912                                          [England]            [Sweden]\n",
       "1920                          [Luxembourg, New Zealand]     [United States]\n",
       "1924        [Greece, Japan, Monaco, Nepal, New Zealand]     [United States]\n",
       "1928  [Chile, Haiti, Ireland, Luxembourg, New Zealan...     [United States]\n",
       "1932     [Belgium, Latvia, Spain, Switzerland, Uruguay]     [United States]\n",
       "1936  [Australia, New Zealand, Nrnberg, Philippines,...           [Germany]\n",
       "1948  [Iran, Ireland, Peru, Puerto Rico, Sri Lanka, ...     [United States]\n",
       "1952  [Bulgaria, Egypt, Ireland, Luxembourg, Mexico,...     [United States]\n",
       "1956             [Brazil, Greece, Iceland, New Zealand]      [Soviet Union]\n",
       "1960  [Argentina, Chinese Taipei, Ethiopia, Ghana, I...      [Soviet Union]\n",
       "1964  [Argentina, Cuba, Ethiopia, Ghana, Ireland, Ke...      [Soviet Union]\n",
       "1968  [Cameroon, Chinese Taipei, Greece, Jamaica, Ve...      [Soviet Union]\n",
       "1972  [Argentina, Denmark, Ghana, Jamaica, Lebanon, ...      [Soviet Union]\n",
       "1976  [Bermuda, Mongolia, Puerto Rico, Thailand, Tri...      [Soviet Union]\n",
       "1980  [Belgium, Guyana, Japan, Lebanon, Uganda, Vene...      [Soviet Union]\n",
       "1984  [Cameroon, Chinese Taipei, Colombia, Cote d'Iv...     [United States]\n",
       "1988  [Chile, Colombia, Costa Rica, Djibouti, Greece...      [Soviet Union]\n",
       "1992  [Bahamas, Colombia, Mexico, Peru, Philippines,...      [Unified Team]\n",
       "1994                                       [Uzbekistan]            [Canada]\n",
       "1996  [Azerbaijan, Burundi, Chinese Taipei, Costa Ri...     [United States]\n",
       "1998            [Australia, Belgium, Bulgaria, Ukraine]           [Finland]\n",
       "2000  [Armenia, Barbados, Colombia, Iceland, India, ...     [United States]\n",
       "2002                                          [Belarus]            [Canada]\n",
       "2004  [Cameroon, Dominican Republic, Eritrea, India,...     [United States]\n",
       "2006  [Belarus, Bulgaria, Great Britain, Japan, Latv...            [Canada]\n",
       "2008  [Afghanistan, Bonaparte, Cameroon, Chile, Clea...     [United States]\n",
       "2010       [Estonia, Great Britain, Kazakhstan, Latvia]     [United States]\n",
       "2012  [Afghanistan, Algeria, Bahrain, Botswana, Cypr...     [United States]\n",
       "2014                    [Croatia, Kazakhstan, Slovakia]            [Canada]\n",
       "2016  [Burundi, Dominican Republic, Finland, Grenada...     [United States]"
      ]
     },
     "execution_count": 16,
     "metadata": {},
     "output_type": "execute_result"
    }
   ],
   "source": [
    "list_years = sorted(athlete_df['Year'].unique()) # get list unique year and sort.\n",
    "numMedal_each_team_each_year = athlete_df.groupby(['Year', 'Team', 'Medal'])['Team'].count()\n",
    "\n",
    "list_team_minMedal_each_year = []\n",
    "list_team_maxMedal_each_year = []\n",
    "\n",
    "for year in list_years:\n",
    "    result = numMedal_each_team_each_year[year].groupby('Team').sum()\n",
    "    \n",
    "    list_team_minMedal_each_year.append(list(result[result == result.min()].index))\n",
    "    list_team_maxMedal_each_year.append(list(result[result == result.max()].index))\n",
    "\n",
    "two_teams_each_year_df = pd.DataFrame({'TeamHasTheLeastMedal': list_team_minMedal_each_year, 'TeamHasTheMostMedal': list_team_maxMedal_each_year}, index=list_years)\n",
    "two_teams_each_year_df"
   ]
  },
  {
   "cell_type": "markdown",
   "metadata": {},
   "source": [
    "**<font color=red>Nhận xét:</font>**\n",
    "\n",
    "- Nhìn sơ qua, ta thấy rằng nước Mỹ có số lần đoạt được nhiều huy chương nhất, có thể do công nghệ khoa học phát triển nhờ tránh được thiệt hại cũng như thu lợi nhuận được từ chiến tranh thế giới, số lượng người dân lớn nên nước này có thành tích đáng ngưỡng mộ như thế.\n",
    "- Ta thấy khoảng cách giữa 2 kì Olympic liên tiếp là 1912-1920 và 1936-1948 cách nhau lần lượt là 8 và 12 năm, tại sao lại vậy? Là do 2 cuộc chiến tranh thế giới diễn ra ở khoảng thời gian này nên Olympic đã được tạm hoãn, dời lại phía sau."
   ]
  },
  {
   "cell_type": "markdown",
   "metadata": {},
   "source": [
    "### Trong 3 năm gần đây, đối với Mùa đông (2014, 2010, 2006) và Mùa hè (2016, 2012, 2008), 10 đội nào tham gia nhiều môn thể thao nhất?\n",
    "\n",
    "Ta lưu kết quả vào dataframe `top5_teams_participate_winter_and_summer_df`. Dataframe này sẽ có 10 cột và 2 dòng: 5 cột tương ứng với 10 đội có số lượng VĐV tham gia nhiều môn thể thao nhất giảm dần và 2 dòng tương ứng với 2 mùa: mùa đông và mùa hè."
   ]
  },
  {
   "cell_type": "code",
   "execution_count": 17,
   "metadata": {},
   "outputs": [],
   "source": [
    "list_years_winter_summer = athlete_df.groupby('Season').Year.apply(lambda x: list(np.unique(x))) # get all of years based on winter and summer\n",
    "\n",
    "numRecentYears = 3 # this number can be changed when neccessary\n",
    "topn = 10\n",
    "list_recent_years_winter = sorted(list_years_winter_summer['Winter'], reverse=True)[:numRecentYears]\n",
    "list_recent_years_summer = sorted(list_years_winter_summer['Summer'], reverse=True)[:numRecentYears]\n",
    "\n",
    "count_sports_each_team_join = athlete_df.groupby(['Year', 'Team'])['Team'].count()\n",
    "\n",
    "def topTeamsParticipate(list_years_of_season):\n",
    "    result = count_sports_each_team_join[list_years_of_season[0]]\n",
    "    \n",
    "    for year in list_years_of_season[1:]:\n",
    "        result = result.add(count_sports_each_team_join[year], fill_value=0)\n",
    "    \n",
    "    return list(result.sort_values(ascending=False).head(topn).index)\n",
    "\n",
    "top10_teams_summer = topTeamsParticipate(list_recent_years_summer)\n",
    "top10_teams_winter = topTeamsParticipate(list_recent_years_winter)"
   ]
  },
  {
   "cell_type": "code",
   "execution_count": 18,
   "metadata": {},
   "outputs": [
    {
     "data": {
      "text/html": [
       "<div>\n",
       "<style scoped>\n",
       "    .dataframe tbody tr th:only-of-type {\n",
       "        vertical-align: middle;\n",
       "    }\n",
       "\n",
       "    .dataframe tbody tr th {\n",
       "        vertical-align: top;\n",
       "    }\n",
       "\n",
       "    .dataframe thead th {\n",
       "        text-align: right;\n",
       "    }\n",
       "</style>\n",
       "<table border=\"1\" class=\"dataframe\">\n",
       "  <thead>\n",
       "    <tr style=\"text-align: right;\">\n",
       "      <th></th>\n",
       "      <th>1</th>\n",
       "      <th>2</th>\n",
       "      <th>3</th>\n",
       "      <th>4</th>\n",
       "      <th>5</th>\n",
       "      <th>6</th>\n",
       "      <th>7</th>\n",
       "      <th>8</th>\n",
       "      <th>9</th>\n",
       "      <th>10</th>\n",
       "    </tr>\n",
       "  </thead>\n",
       "  <tbody>\n",
       "    <tr>\n",
       "      <th>Summer</th>\n",
       "      <td>United States</td>\n",
       "      <td>China</td>\n",
       "      <td>Australia</td>\n",
       "      <td>Germany</td>\n",
       "      <td>Great Britain</td>\n",
       "      <td>Russia</td>\n",
       "      <td>France</td>\n",
       "      <td>Japan</td>\n",
       "      <td>Italy</td>\n",
       "      <td>Canada</td>\n",
       "    </tr>\n",
       "    <tr>\n",
       "      <th>Winter</th>\n",
       "      <td>United States</td>\n",
       "      <td>Canada</td>\n",
       "      <td>Russia</td>\n",
       "      <td>Germany</td>\n",
       "      <td>Italy</td>\n",
       "      <td>Norway</td>\n",
       "      <td>Switzerland</td>\n",
       "      <td>France</td>\n",
       "      <td>Japan</td>\n",
       "      <td>Czech Republic</td>\n",
       "    </tr>\n",
       "  </tbody>\n",
       "</table>\n",
       "</div>"
      ],
      "text/plain": [
       "                   1       2          3        4              5       6   \\\n",
       "Summer  United States   China  Australia  Germany  Great Britain  Russia   \n",
       "Winter  United States  Canada     Russia  Germany          Italy  Norway   \n",
       "\n",
       "                 7       8      9               10  \n",
       "Summer       France   Japan  Italy          Canada  \n",
       "Winter  Switzerland  France  Japan  Czech Republic  "
      ]
     },
     "execution_count": 18,
     "metadata": {},
     "output_type": "execute_result"
    }
   ],
   "source": [
    "top5_teams_participate_winter_and_summer_df = pd.DataFrame(data=[top10_teams_summer, top10_teams_winter], index=['Summer', 'Winter'], columns=[x+1 for x in range(topn)])\n",
    "top5_teams_participate_winter_and_summer_df"
   ]
  },
  {
   "cell_type": "markdown",
   "metadata": {},
   "source": [
    "**<font color=red>Nhận xét:</font>**\n",
    "\n",
    "- Mỹ luôn dẫn đầu về số lượng VĐV tham gia Olympic cả thể thao mùa đông và mùa hè.\n",
    "- Nhật Bản là nước châu Á duy nhất lọt top 10 có số lượng VĐV tham gia cả 2 loại thể thao mùa đông và mùa hè.\n",
    "- Trung Quốc cũng đang cho thấy khả năng về việc cạnh tranh huy chương với các cường quốc phương Tây khác."
   ]
  },
  {
   "cell_type": "markdown",
   "metadata": {},
   "source": [
    "### Trong mỗi năm, số lượng huy chương mà đội Mỹ đoạt được thay đổi như thế nào theo mùa?"
   ]
  },
  {
   "cell_type": "markdown",
   "metadata": {},
   "source": [
    "Trước khi trả lời cho câu hỏi này, ta thực hiện kiểm tra lại các năm theo mùa mà đội Mỹ tham gia Olympic."
   ]
  },
  {
   "cell_type": "code",
   "execution_count": 66,
   "metadata": {},
   "outputs": [
    {
     "name": "stdout",
     "output_type": "stream",
     "text": [
      "WINTER\n",
      "1924: True\n",
      "1928: True\n",
      "1932: True\n",
      "1936: True\n",
      "1948: True\n",
      "1952: True\n",
      "1956: True\n",
      "1960: True\n",
      "1964: True\n",
      "1968: True\n",
      "1972: True\n",
      "1976: True\n",
      "1980: True\n",
      "1984: True\n",
      "1988: True\n",
      "1992: True\n",
      "1994: True\n",
      "1998: True\n",
      "2002: True\n",
      "2006: True\n",
      "2010: True\n",
      "2014: True\n",
      "SUMMER\n",
      "1896: True\n",
      "1900: True\n",
      "1904: True\n",
      "1906: True\n",
      "1908: True\n",
      "1912: True\n",
      "1920: True\n",
      "1924: True\n",
      "1928: True\n",
      "1932: True\n",
      "1936: True\n",
      "1948: True\n",
      "1952: True\n",
      "1956: True\n",
      "1960: True\n",
      "1964: True\n",
      "1968: True\n",
      "1972: True\n",
      "1976: True\n",
      "1980: False\n",
      "1984: True\n",
      "1988: True\n",
      "1992: True\n",
      "1996: True\n",
      "2000: True\n",
      "2004: True\n",
      "2008: True\n",
      "2012: True\n",
      "2016: True\n"
     ]
    }
   ],
   "source": [
    "teams_each_year = athlete_df.groupby(['Season', 'Year', 'Team'])['Team'].count()\n",
    "\n",
    "list_years_winter = sorted(list_years_winter_summer['Winter'])\n",
    "list_years_summer = sorted(list_years_winter_summer['Summer'])\n",
    "\n",
    "print('WINTER')\n",
    "for year in list_years_winter:\n",
    "    print(f'{year}:', 'United States' in temp['Winter', year].index)\n",
    "\n",
    "print('SUMMER')\n",
    "for year in list_years_summer:\n",
    "    print(f'{year}:', 'United States' in temp['Summer', year].index)"
   ]
  },
  {
   "cell_type": "markdown",
   "metadata": {},
   "source": [
    "Như vậy là đội Mỹ năm nào cũng tham gia Olympic (trừ Olympic Mùa hè năm 1980), như vậy ta sẽ có cái nhìn tổng quát được sự biến động đoạt được huy chương của đội Mỹ."
   ]
  },
  {
   "cell_type": "markdown",
   "metadata": {},
   "source": [
    "Để trả lời cho câu hỏi này, ta sẽ làm như sau:\n",
    "- Bước 1: Ta tính số lượng huy chương mà đội Mỹ đạt được theo mùa của mỗi năm, lưu kết quả vào 2 series là `numMedalsWinter` và `numMedalsSummer` lần lượt là số huy chương qua mỗi năm theo Mùa đông và Mùa hè.\n",
    "- Bước 2: Từ kết quả ở trên, ta vẽ 2 đồ thị dạng line, trong đó trục hoành là năm và trục tung là số huy chương đạt được. Dùng thêm marker là điểm tròn để cho thấy rõ các điểm dữ liệu, đặt tên trục tung của đồ thị biễu diễn huy chương Mùa hè là \"NumMedalOnSummer\" và Mùa đông là \"NumMedalOnWinter\"."
   ]
  },
  {
   "cell_type": "code",
   "execution_count": 68,
   "metadata": {},
   "outputs": [],
   "source": [
    "list_years_winter = sorted(list_years_winter_summer['Winter'])\n",
    "list_years_summer = sorted(list_years_winter_summer['Summer'])\n",
    "\n",
    "num_medals_each_season_each_year = athlete_df.groupby(['Season', 'Year', 'Team'])['Medal'].count().unstack().fillna(0).stack()\n",
    "\n",
    "list_num_medals_winter = []\n",
    "list_num_medals_summer = []\n",
    "\n",
    "for year in list_years_winter:\n",
    "    list_num_medals_winter.append(num_medals_each_season_each_year['Winter', year, 'United States'])\n",
    "\n",
    "for year in list_years_summer:\n",
    "    list_num_medals_summer.append(num_medals_each_season_each_year['Summer', year, 'United States'])\n",
    "\n",
    "numMedalsWinter = pd.Series(list_num_medals_winter, index=list_years_winter)\n",
    "numMedalsSummer = pd.Series(list_num_medals_summer, index=list_years_summer)"
   ]
  },
  {
   "cell_type": "code",
   "execution_count": 45,
   "metadata": {},
   "outputs": [
    {
     "data": {
      "image/png": "[encoded data removed]",
      "text/plain": [
       "<Figure size 432x288 with 1 Axes>"
      ]
     },
     "metadata": {
      "needs_background": "light"
     },
     "output_type": "display_data"
    }
   ],
   "source": [
    "numMedalsWinter.plot.line(marker='o')\n",
    "plt.xlabel('Year')\n",
    "plt.ylabel('NumMedalOnWinter');"
   ]
  },
  {
   "cell_type": "code",
   "execution_count": 44,
   "metadata": {},
   "outputs": [
    {
     "data": {
      "image/png": "[encoded data removed]",
      "text/plain": [
       "<Figure size 432x288 with 1 Axes>"
      ]
     },
     "metadata": {
      "needs_background": "light"
     },
     "output_type": "display_data"
    }
   ],
   "source": [
    "numMedalsSummer.plot.line(marker='o')\n",
    "plt.xlabel('Year')\n",
    "plt.ylabel('NumMedalOnSummer');"
   ]
  },
  {
   "cell_type": "markdown",
   "metadata": {},
   "source": [
    "**<font color=red>Nhận xét:</font>**\n",
    "\n",
    "- Nhìn chung, số lượng huy chương đội Mỹ đạt được vẫn có xu hướng tăng qua các năm lẫn Mùa đông và Mùa hè, vẫn là đội mạnh trên đấu trường.\n",
    "- Mỹ không tham gia Olympic Mùa hè 1980 bởi vì Đại hội được tổ chức ở Moskva (Liên Xô lúc bấy giờ), mà lúc này là thời gian chiến tranh lạnh giữa Liên Xô và Hoa Kỳ (1947 - 1991)."
   ]
  },
  {
   "cell_type": "markdown",
   "metadata": {},
   "source": [
    "---"
   ]
  },
  {
   "cell_type": "markdown",
   "metadata": {},
   "source": [
    "## __6. QUÁ TRÌNH LÀM ĐỒ ÁN__"
   ]
  },
  {
   "cell_type": "markdown",
   "metadata": {},
   "source": [
    "Việc khó khăn ngay từ khi bắt đầu chọn dữ liệu nào để bắt đầu phân tích, cần thỏa mãn đầy đủ các yếu tố như: ..."
   ]
  },
  {
   "cell_type": "markdown",
   "metadata": {},
   "source": [
    "---"
   ]
  },
  {
   "cell_type": "markdown",
   "metadata": {},
   "source": [
    "## __7. TÀI LIỆU THAM KHẢO__"
   ]
  },
  {
   "cell_type": "markdown",
   "metadata": {},
   "source": [
    "https://stackoverflow.com/questions/50078524/pandas-groupby-0-value-if-does-not-exist\n",
    "\n",
    "https://stackoverflow.com/questions/36106490/how-to-get-unique-values-from-multiple-columns-in-a-pandas-groupby"
   ]
  },
  {
   "cell_type": "code",
   "execution_count": null,
   "metadata": {},
   "outputs": [],
   "source": []
  }
 ],
 "metadata": {
  "kernelspec": {
   "display_name": "Python 3",
   "language": "python",
   "name": "python3"
  },
  "language_info": {
   "codemirror_mode": {
    "name": "ipython",
    "version": 3
   },
   "file_extension": ".py",
   "mimetype": "text/x-python",
   "name": "python",
   "nbconvert_exporter": "python",
   "pygments_lexer": "ipython3",
   "version": "3.7.6"
  }
 },
 "nbformat": 4,
 "nbformat_minor": 4
}
